{
 "cells": [
  {
   "cell_type": "code",
   "execution_count": 1,
   "metadata": {},
   "outputs": [],
   "source": [
    "import os \n",
    "import cv2\n",
    "import numpy as np\n",
    "from PIL import Image\n"
   ]
  },
  {
   "cell_type": "code",
   "execution_count": 2,
   "metadata": {},
   "outputs": [],
   "source": [
    "def loadDataset(path):\n",
    "  for _,dirs,_ in os.walk(path):\n",
    "    X=[];\n",
    "    y=[];\n",
    "    for dir in dirs:\n",
    "        for _,_,files in os.walk(path+dir+\"/\"):\n",
    "            for file in files:  \n",
    "              #  print(\"Loading:\"+path+dir+\"/\"+file)\n",
    "                img = Image.open(path+dir+\"/\"+file)\n",
    "                img = img.resize((600, 600), Image.ANTIALIAS)\n",
    "                X.append(img)\n",
    "                y.append(file)\n",
    "    return X,y"
   ]
  },
  {
   "cell_type": "code",
   "execution_count": 3,
   "metadata": {},
   "outputs": [],
   "source": [
    "X, y = loadDataset('folder path')\n"
   ]
  },
  {
   "cell_type": "code",
   "execution_count": 4,
   "metadata": {},
   "outputs": [
    {
     "name": "stderr",
     "output_type": "stream",
     "text": [
      "Using TensorFlow backend.\n"
     ]
    }
   ],
   "source": [
    "from numpy import expand_dims\n",
    "from keras.preprocessing.image import load_img\n",
    "from keras.preprocessing.image import img_to_array\n",
    "from keras.preprocessing.image import ImageDataGenerator"
   ]
  },
  {
   "cell_type": "code",
   "execution_count": 5,
   "metadata": {},
   "outputs": [],
   "source": [
    "def roatate(image, data, samples):\n",
    "    datagen = ImageDataGenerator(rotation_range=180)\n",
    "    it = datagen.flow(samples, batch_size=9,save_to_dir='images', save_prefix='rot', save_format='png')\n",
    "    for i in range(9):\n",
    "        batch = it.next()\n",
    "        image = batch[0].astype('uint8')\n"
   ]
  },
  {
   "cell_type": "code",
   "execution_count": 6,
   "metadata": {},
   "outputs": [],
   "source": [
    "def vertical_flip(image, data, samples):\n",
    "    datagen = ImageDataGenerator(vertical_flip=True)\n",
    "    it = datagen.flow(samples, batch_size=1,save_to_dir='images', save_prefix='ver', save_format='png')\n",
    "    for i in range(1):\n",
    "        batch = it.next()\n",
    "        image = batch[0].astype('uint8')"
   ]
  },
  {
   "cell_type": "code",
   "execution_count": 7,
   "metadata": {},
   "outputs": [],
   "source": [
    "def zoom(image, data, samples):\n",
    "    datagen = ImageDataGenerator(zoom_range=[0.8,3.0])\n",
    "    it = datagen.flow(samples, batch_size=9, save_to_dir='images', save_prefix='zoom', save_format='png')\n",
    "    for i in range(9):\n",
    "        batch = it.next()\n",
    "        image = batch[0].astype('uint8')\n"
   ]
  },
  {
   "cell_type": "code",
   "execution_count": 8,
   "metadata": {},
   "outputs": [],
   "source": [
    "def brightness_range(image, data, samples):\n",
    "    datagen = ImageDataGenerator(brightness_range=[0.2,1.5])\n",
    "    it = datagen.flow(samples, batch_size=9, save_to_dir='images', save_prefix='brightness', save_format='png')\n",
    "    for i in range(9):\n",
    "        batch = it.next()\n",
    "        image = batch[0].astype('uint8')\n"
   ]
  },
  {
   "cell_type": "code",
   "execution_count": 9,
   "metadata": {},
   "outputs": [],
   "source": [
    "for image in X:\n",
    "    data = img_to_array(image)\n",
    "    samples = expand_dims(data, 0)\n",
    "    roatate(image,data,samples)\n",
    "    zoom(image, data, samples)\n",
    "    vertical_flip(image, data, samples)\n",
    "    brightness_range(image, data, samples)\n"
   ]
  },
  {
   "cell_type": "code",
   "execution_count": null,
   "metadata": {},
   "outputs": [],
   "source": []
  },
  {
   "cell_type": "code",
   "execution_count": null,
   "metadata": {},
   "outputs": [],
   "source": []
  },
  {
   "cell_type": "code",
   "execution_count": null,
   "metadata": {},
   "outputs": [],
   "source": []
  },
  {
   "cell_type": "code",
   "execution_count": null,
   "metadata": {},
   "outputs": [],
   "source": []
  },
  {
   "cell_type": "code",
   "execution_count": null,
   "metadata": {},
   "outputs": [],
   "source": []
  }
 ],
 "metadata": {
  "kernelspec": {
   "display_name": "Python 3",
   "language": "python",
   "name": "python3"
  },
  "language_info": {
   "codemirror_mode": {
    "name": "ipython",
    "version": 3
   },
   "file_extension": ".py",
   "mimetype": "text/x-python",
   "name": "python",
   "nbconvert_exporter": "python",
   "pygments_lexer": "ipython3",
   "version": "3.7.4"
  }
 },
 "nbformat": 4,
 "nbformat_minor": 2
}
